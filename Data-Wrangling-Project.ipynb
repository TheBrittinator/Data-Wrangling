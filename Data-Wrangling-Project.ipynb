{
 "cells": [
  {
   "cell_type": "markdown",
   "id": "54c2056a-e4ea-4337-82e7-51d8391dc207",
   "metadata": {},
   "source": [
    "# **Data Wrangling Project 🧽✨📊**"
   ]
  },
  {
   "cell_type": "markdown",
   "id": "47e13c9c",
   "metadata": {},
   "source": [
    "# 1. Gather 👩🏽‍💻"
   ]
  },
  {
   "cell_type": "code",
   "execution_count": 1,
   "id": "63c8e500-f00d-48b7-97a7-271b147ac7c8",
   "metadata": {},
   "outputs": [],
   "source": [
    "\"\"\" TO DO\n",
    "- download zip file (from Kaggle or TheBrittinator git repository)\n",
    "- unzip the file using Python\n",
    "- import and extract CCSV file into pandas DataFrame\n",
    "\"\"\"\n",
    "\n",
    "\n",
    "# import the zipfile package\n",
    "import zipfile\n",
    "import pandas as pd"
   ]
  },
  {
   "cell_type": "code",
   "execution_count": 3,
   "id": "594d7bea-5812-4781-af6f-d30abf382afa",
   "metadata": {},
   "outputs": [],
   "source": [
    "# read zip file and extract all documents\n",
    "with zipfile.ZipFile('archive.zip', 'r') as myzip:\n",
    "    myzip.extractall()"
   ]
  },
  {
   "cell_type": "code",
   "execution_count": 4,
   "id": "2da69ca2",
   "metadata": {},
   "outputs": [],
   "source": [
    "# read csv file into a pandas dataFrame\n",
    "\n",
    "df = pd.read_csv('online-job-postings.csv')"
   ]
  },
  {
   "cell_type": "code",
   "execution_count": 5,
   "id": "59601a21-eb09-4a1c-9231-befc7ea2b106",
   "metadata": {},
   "outputs": [
    {
     "data": {
      "text/html": [
       "<div>\n",
       "<style scoped>\n",
       "    .dataframe tbody tr th:only-of-type {\n",
       "        vertical-align: middle;\n",
       "    }\n",
       "\n",
       "    .dataframe tbody tr th {\n",
       "        vertical-align: top;\n",
       "    }\n",
       "\n",
       "    .dataframe thead th {\n",
       "        text-align: right;\n",
       "    }\n",
       "</style>\n",
       "<table border=\"1\" class=\"dataframe\">\n",
       "  <thead>\n",
       "    <tr style=\"text-align: right;\">\n",
       "      <th></th>\n",
       "      <th>jobpost</th>\n",
       "      <th>date</th>\n",
       "      <th>Title</th>\n",
       "      <th>Company</th>\n",
       "      <th>AnnouncementCode</th>\n",
       "      <th>Term</th>\n",
       "      <th>Eligibility</th>\n",
       "      <th>Audience</th>\n",
       "      <th>StartDate</th>\n",
       "      <th>Duration</th>\n",
       "      <th>...</th>\n",
       "      <th>Salary</th>\n",
       "      <th>ApplicationP</th>\n",
       "      <th>OpeningDate</th>\n",
       "      <th>Deadline</th>\n",
       "      <th>Notes</th>\n",
       "      <th>AboutC</th>\n",
       "      <th>Attach</th>\n",
       "      <th>Year</th>\n",
       "      <th>Month</th>\n",
       "      <th>IT</th>\n",
       "    </tr>\n",
       "  </thead>\n",
       "  <tbody>\n",
       "    <tr>\n",
       "      <th>0</th>\n",
       "      <td>AMERIA Investment Consulting Company\\r\\nJOB TI...</td>\n",
       "      <td>Jan 5, 2004</td>\n",
       "      <td>Chief Financial Officer</td>\n",
       "      <td>AMERIA Investment Consulting Company</td>\n",
       "      <td>NaN</td>\n",
       "      <td>NaN</td>\n",
       "      <td>NaN</td>\n",
       "      <td>NaN</td>\n",
       "      <td>NaN</td>\n",
       "      <td>NaN</td>\n",
       "      <td>...</td>\n",
       "      <td>NaN</td>\n",
       "      <td>To apply for this position, please submit a\\r\\...</td>\n",
       "      <td>NaN</td>\n",
       "      <td>26 January 2004</td>\n",
       "      <td>NaN</td>\n",
       "      <td>NaN</td>\n",
       "      <td>NaN</td>\n",
       "      <td>2004</td>\n",
       "      <td>1</td>\n",
       "      <td>False</td>\n",
       "    </tr>\n",
       "    <tr>\n",
       "      <th>1</th>\n",
       "      <td>International Research &amp; Exchanges Board (IREX...</td>\n",
       "      <td>Jan 7, 2004</td>\n",
       "      <td>Full-time Community Connections Intern (paid i...</td>\n",
       "      <td>International Research &amp; Exchanges Board (IREX)</td>\n",
       "      <td>NaN</td>\n",
       "      <td>NaN</td>\n",
       "      <td>NaN</td>\n",
       "      <td>NaN</td>\n",
       "      <td>NaN</td>\n",
       "      <td>3 months</td>\n",
       "      <td>...</td>\n",
       "      <td>NaN</td>\n",
       "      <td>Please submit a cover letter and resume to:\\r\\...</td>\n",
       "      <td>NaN</td>\n",
       "      <td>12 January 2004</td>\n",
       "      <td>NaN</td>\n",
       "      <td>The International Research &amp; Exchanges Board (...</td>\n",
       "      <td>NaN</td>\n",
       "      <td>2004</td>\n",
       "      <td>1</td>\n",
       "      <td>False</td>\n",
       "    </tr>\n",
       "    <tr>\n",
       "      <th>2</th>\n",
       "      <td>Caucasus Environmental NGO Network (CENN)\\r\\nJ...</td>\n",
       "      <td>Jan 7, 2004</td>\n",
       "      <td>Country Coordinator</td>\n",
       "      <td>Caucasus Environmental NGO Network (CENN)</td>\n",
       "      <td>NaN</td>\n",
       "      <td>NaN</td>\n",
       "      <td>NaN</td>\n",
       "      <td>NaN</td>\n",
       "      <td>NaN</td>\n",
       "      <td>Renewable annual contract\\r\\nPOSITION</td>\n",
       "      <td>...</td>\n",
       "      <td>NaN</td>\n",
       "      <td>Please send resume or CV toursula.kazarian@......</td>\n",
       "      <td>NaN</td>\n",
       "      <td>20 January 2004\\r\\nSTART DATE:  February 2004</td>\n",
       "      <td>NaN</td>\n",
       "      <td>The Caucasus Environmental NGO Network is a\\r\\...</td>\n",
       "      <td>NaN</td>\n",
       "      <td>2004</td>\n",
       "      <td>1</td>\n",
       "      <td>False</td>\n",
       "    </tr>\n",
       "    <tr>\n",
       "      <th>3</th>\n",
       "      <td>Manoff Group\\r\\nJOB TITLE:  BCC Specialist\\r\\n...</td>\n",
       "      <td>Jan 7, 2004</td>\n",
       "      <td>BCC Specialist</td>\n",
       "      <td>Manoff Group</td>\n",
       "      <td>NaN</td>\n",
       "      <td>NaN</td>\n",
       "      <td>NaN</td>\n",
       "      <td>NaN</td>\n",
       "      <td>NaN</td>\n",
       "      <td>NaN</td>\n",
       "      <td>...</td>\n",
       "      <td>NaN</td>\n",
       "      <td>Please send cover letter and resume to Amy\\r\\n...</td>\n",
       "      <td>NaN</td>\n",
       "      <td>23 January 2004\\r\\nSTART DATE:  Immediate</td>\n",
       "      <td>NaN</td>\n",
       "      <td>NaN</td>\n",
       "      <td>NaN</td>\n",
       "      <td>2004</td>\n",
       "      <td>1</td>\n",
       "      <td>False</td>\n",
       "    </tr>\n",
       "    <tr>\n",
       "      <th>4</th>\n",
       "      <td>Yerevan Brandy Company\\r\\nJOB TITLE:  Software...</td>\n",
       "      <td>Jan 10, 2004</td>\n",
       "      <td>Software Developer</td>\n",
       "      <td>Yerevan Brandy Company</td>\n",
       "      <td>NaN</td>\n",
       "      <td>NaN</td>\n",
       "      <td>NaN</td>\n",
       "      <td>NaN</td>\n",
       "      <td>NaN</td>\n",
       "      <td>NaN</td>\n",
       "      <td>...</td>\n",
       "      <td>NaN</td>\n",
       "      <td>Successful candidates should submit\\r\\n- CV; \\...</td>\n",
       "      <td>NaN</td>\n",
       "      <td>20 January 2004, 18:00</td>\n",
       "      <td>NaN</td>\n",
       "      <td>NaN</td>\n",
       "      <td>NaN</td>\n",
       "      <td>2004</td>\n",
       "      <td>1</td>\n",
       "      <td>True</td>\n",
       "    </tr>\n",
       "  </tbody>\n",
       "</table>\n",
       "<p>5 rows × 24 columns</p>\n",
       "</div>"
      ],
      "text/plain": [
       "                                             jobpost          date  \\\n",
       "0  AMERIA Investment Consulting Company\\r\\nJOB TI...   Jan 5, 2004   \n",
       "1  International Research & Exchanges Board (IREX...   Jan 7, 2004   \n",
       "2  Caucasus Environmental NGO Network (CENN)\\r\\nJ...   Jan 7, 2004   \n",
       "3  Manoff Group\\r\\nJOB TITLE:  BCC Specialist\\r\\n...   Jan 7, 2004   \n",
       "4  Yerevan Brandy Company\\r\\nJOB TITLE:  Software...  Jan 10, 2004   \n",
       "\n",
       "                                               Title  \\\n",
       "0                            Chief Financial Officer   \n",
       "1  Full-time Community Connections Intern (paid i...   \n",
       "2                                Country Coordinator   \n",
       "3                                     BCC Specialist   \n",
       "4                                 Software Developer   \n",
       "\n",
       "                                           Company AnnouncementCode Term  \\\n",
       "0             AMERIA Investment Consulting Company              NaN  NaN   \n",
       "1  International Research & Exchanges Board (IREX)              NaN  NaN   \n",
       "2        Caucasus Environmental NGO Network (CENN)              NaN  NaN   \n",
       "3                                     Manoff Group              NaN  NaN   \n",
       "4                           Yerevan Brandy Company              NaN  NaN   \n",
       "\n",
       "  Eligibility Audience StartDate                               Duration  ...  \\\n",
       "0         NaN      NaN       NaN                                    NaN  ...   \n",
       "1         NaN      NaN       NaN                               3 months  ...   \n",
       "2         NaN      NaN       NaN  Renewable annual contract\\r\\nPOSITION  ...   \n",
       "3         NaN      NaN       NaN                                    NaN  ...   \n",
       "4         NaN      NaN       NaN                                    NaN  ...   \n",
       "\n",
       "  Salary                                       ApplicationP OpeningDate  \\\n",
       "0    NaN  To apply for this position, please submit a\\r\\...         NaN   \n",
       "1    NaN  Please submit a cover letter and resume to:\\r\\...         NaN   \n",
       "2    NaN  Please send resume or CV toursula.kazarian@......         NaN   \n",
       "3    NaN  Please send cover letter and resume to Amy\\r\\n...         NaN   \n",
       "4    NaN  Successful candidates should submit\\r\\n- CV; \\...         NaN   \n",
       "\n",
       "                                        Deadline Notes  \\\n",
       "0                                26 January 2004   NaN   \n",
       "1                                12 January 2004   NaN   \n",
       "2  20 January 2004\\r\\nSTART DATE:  February 2004   NaN   \n",
       "3      23 January 2004\\r\\nSTART DATE:  Immediate   NaN   \n",
       "4                         20 January 2004, 18:00   NaN   \n",
       "\n",
       "                                              AboutC Attach  Year Month     IT  \n",
       "0                                                NaN    NaN  2004     1  False  \n",
       "1  The International Research & Exchanges Board (...    NaN  2004     1  False  \n",
       "2  The Caucasus Environmental NGO Network is a\\r\\...    NaN  2004     1  False  \n",
       "3                                                NaN    NaN  2004     1  False  \n",
       "4                                                NaN    NaN  2004     1   True  \n",
       "\n",
       "[5 rows x 24 columns]"
      ]
     },
     "execution_count": 5,
     "metadata": {},
     "output_type": "execute_result"
    }
   ],
   "source": [
    "# check your work - using the .head method will only display the first 5 rows.\n",
    "\n",
    "df.head()"
   ]
  },
  {
   "cell_type": "markdown",
   "id": "0848392b",
   "metadata": {},
   "source": [
    "# 2. Assess 🤔"
   ]
  },
  {
   "cell_type": "markdown",
   "id": "128f45d7-5c38-4cf4-a939-6340ed3ef90d",
   "metadata": {},
   "source": [
    "### **What are we assessing?**\n",
    "\n",
    "#### Not exploring our data just yet. First, let's assess our data's:\n",
    "1. Quality\n",
    "2. Tidiness\n",
    "\n",
    "# Quality\n",
    "### Common Data Quality Issues:\n",
    "- Missing data\n",
    "- Invlaid data\n",
    "- Inaccurate data\n",
    "- Inconsistent data\n",
    "\n",
    "*identify if your dataset checks any of these boxes.*\n",
    "\n",
    "# Tidiness\n",
    "### Also referred to as 'messy data.' This kind of data has issues with it's *structure:*\n",
    "Your data is **TIDY** if:\n",
    "- Each variable forms a column.\n",
    "- Each observation forms a row.\n",
    "- Each type of observational unit forms a table.\n",
    "\n",
    "# How to Assess Data\n",
    "### 2 styles to do it:\n",
    "1. Visually - with your eyes 👀\n",
    "2. Programmatic Assessment - using Pandas 🐼\n"
   ]
  },
  {
   "cell_type": "code",
   "execution_count": null,
   "id": "a68264a7-ce16-4173-a526-b3922628f6ce",
   "metadata": {},
   "outputs": [],
   "source": [
    "\"\"\" TO DO\n",
    "- Assess your dataset programmatically using pandas\n",
    "- identify data quality issues\n",
    "- confirm if your dataset is 'tidy' or 'messy.'\n",
    "\"\"\"\n",
    "\n",
    "# check programmatically! 4 methods we can use to do this\n",
    "## Display the first five rows of the DataFrame using .head\n",
    "df.head()"
   ]
  },
  {
   "cell_type": "code",
   "execution_count": null,
   "id": "59ffb643-db80-4c86-ad78-52d5271fe914",
   "metadata": {},
   "outputs": [],
   "source": [
    "# Display the last five rows of the DataFrame using .tail\n",
    "df.tail()"
   ]
  },
  {
   "cell_type": "code",
   "execution_count": 8,
   "id": "8ae47a98-1eca-4771-a3f2-2c0dd6da121e",
   "metadata": {},
   "outputs": [
    {
     "name": "stdout",
     "output_type": "stream",
     "text": [
      "<class 'pandas.core.frame.DataFrame'>\n",
      "RangeIndex: 19001 entries, 0 to 19000\n",
      "Data columns (total 24 columns):\n",
      " #   Column            Non-Null Count  Dtype \n",
      "---  ------            --------------  ----- \n",
      " 0   jobpost           19001 non-null  object\n",
      " 1   date              19001 non-null  object\n",
      " 2   Title             18973 non-null  object\n",
      " 3   Company           18994 non-null  object\n",
      " 4   AnnouncementCode  1208 non-null   object\n",
      " 5   Term              7676 non-null   object\n",
      " 6   Eligibility       4930 non-null   object\n",
      " 7   Audience          640 non-null    object\n",
      " 8   StartDate         9675 non-null   object\n",
      " 9   Duration          10798 non-null  object\n",
      " 10  Location          18969 non-null  object\n",
      " 11  JobDescription    15109 non-null  object\n",
      " 12  JobRequirment     16479 non-null  object\n",
      " 13  RequiredQual      18517 non-null  object\n",
      " 14  Salary            9622 non-null   object\n",
      " 15  ApplicationP      18941 non-null  object\n",
      " 16  OpeningDate       18295 non-null  object\n",
      " 17  Deadline          18936 non-null  object\n",
      " 18  Notes             2211 non-null   object\n",
      " 19  AboutC            12470 non-null  object\n",
      " 20  Attach            1559 non-null   object\n",
      " 21  Year              19001 non-null  int64 \n",
      " 22  Month             19001 non-null  int64 \n",
      " 23  IT                19001 non-null  bool  \n",
      "dtypes: bool(1), int64(2), object(21)\n",
      "memory usage: 3.4+ MB\n"
     ]
    }
   ],
   "source": [
    "# Display a basic summary of the DataFrame using .info\n",
    "df.info()"
   ]
  },
  {
   "cell_type": "code",
   "execution_count": null,
   "id": "cbd705f1-59eb-431c-a891-362cd4c1b315",
   "metadata": {},
   "outputs": [],
   "source": [
    "# Display the entry counts for the Year column using .value_counts\n",
    "df[\"Year\"].value_counts()"
   ]
  },
  {
   "cell_type": "code",
   "execution_count": null,
   "id": "ef7bbbbf-ce86-45a7-9b2d-7ecdccc3a2f4",
   "metadata": {},
   "outputs": [],
   "source": [
    "# now check visually by reviewing your dataframe\n",
    "df"
   ]
  },
  {
   "cell_type": "markdown",
   "id": "3810394c-9f30-4842-8d1b-f51aa1a5262e",
   "metadata": {},
   "source": [
    "## What Did We Find?"
   ]
  },
  {
   "cell_type": "markdown",
   "id": "43ba443b-b07a-42f4-8618-43554bf8ec22",
   "metadata": {},
   "source": [
    "1. Quality 🏆\n",
    "    - Missing Records: lots of NaN values for some columns\n",
    "    - Multiple Terms that mean the same thing (in the 'start-date' column we found 'ASAP', 'immediately', 'as soon as possible')\n",
    "    - fix nondescriptive column headers such as 'RequiredQual' and typo 'jobrequirment'\n",
    "    \n",
    "2. Tidiness 🏚️\n",
    "    - does each variable have it's own column? ❌\n",
    "    - does each observation have it's own row? ✅\n",
    "    - is each type of observational unit a table? ❌\n",
    " * Both the date and Year + Month Column are representative of the same thing. This is a duplication. The day column needs to be added so that the entire date is seperated into columns. \n",
    " * There are two types of observational data: job posting and company data. These can be seperated into two tables.\n",
    "    \n",
    "#### **For this introductory lesson, we will focus on Data Quality in our cleaning step, NOT Tidiness.**"
   ]
  },
  {
   "cell_type": "markdown",
   "id": "c29c2aeb",
   "metadata": {},
   "source": [
    "# 3. Clean 🧽✨\n",
    "\n",
    "The prgrammatic Data Cleaning Process:\n",
    "1. Define - your data cleaning plan in writing. \n",
    "2. Code - transating these definitions into code and executing it.\n",
    "3. Test - testing our dataset, using code, to make sure our cleaning operations worked."
   ]
  },
  {
   "cell_type": "markdown",
   "id": "772ab17c",
   "metadata": {},
   "source": [
    "### Define\n",
    "\n",
    "    - Select all records in the StartDate column that have \"As soon as possible\" \"immediately\" etc. and replace with \"ASAP\"\n",
    "    \n",
    "    - Select all nondescriptive and misspelled column headers (ApplicationP, AboutC, RequiredQual, JobRequirment) and replace then with full words (Application Procedure, AboutCompany, RequiredQualifications, JobRequirement)\n",
    "    "
   ]
  },
  {
   "cell_type": "markdown",
   "id": "42eda0d4",
   "metadata": {},
   "source": [
    "### Code"
   ]
  },
  {
   "cell_type": "code",
   "execution_count": 12,
   "id": "abdb6a4f",
   "metadata": {},
   "outputs": [],
   "source": [
    "\"\"\" TO DO\n",
    "- copy your dataFrame for cleaning\n",
    "- rename your column headers \n",
    "    - https://stackoverflow.com/questions/11346283/renaming-column-names-in-pandas\n",
    "- find and replace redundancies in StartDate column with \"ASAP\"\n",
    "\"\"\"\n",
    "\n",
    "# copy our code into a new df - let's keep an original just in case.\n",
    "df_clean = df.copy()"
   ]
  },
  {
   "cell_type": "code",
   "execution_count": 17,
   "id": "c1131f97-0999-46c9-8d65-56b7dca74c8d",
   "metadata": {},
   "outputs": [],
   "source": [
    "# rename column headers - see docstring for resources\n",
    "df_clean = df.rename(columns={'ApplicationP':'ApplicationProcedure',\n",
    "                              'AboutC':'AboutCompany','RequiredQual':'RequiredQualifications',\n",
    "                              'JobRequirment':'JobRequirements'})"
   ]
  },
  {
   "cell_type": "code",
   "execution_count": 21,
   "id": "867fd885-0fa8-42e1-83eb-52260002d2dc",
   "metadata": {},
   "outputs": [
    {
     "data": {
      "text/plain": [
       "ASAP                              4754\n",
       "Immediately                        773\n",
       "As soon as possible                543\n",
       "Upon hiring                        261\n",
       "Immediate                          259\n",
       "                                  ... \n",
       "Flexible                             1\n",
       "11 April 2010                        1\n",
       "ASAP starting 10 February 2006       1\n",
       "07 April 2010                        1\n",
       "15 March 2009                        1\n",
       "Name: StartDate, Length: 1186, dtype: int64"
      ]
     },
     "execution_count": 21,
     "metadata": {},
     "output_type": "execute_result"
    }
   ],
   "source": [
    "# find and replace: locate our unique values\n",
    "df_clean.StartDate.value_counts()"
   ]
  },
  {
   "cell_type": "code",
   "execution_count": 23,
   "id": "1b75c938-c037-4d41-aa09-4ff0797830b7",
   "metadata": {},
   "outputs": [],
   "source": [
    "# find and replace: place all ASAP unique values into a variable write a for loop to replace each value with ASAP.\n",
    "# .replace structure: https://pandas.pydata.org/docs/reference/api/pandas.Series.replace.html\n",
    "# you can expand your value_counts and do the digging on your own, or just use this code:\n",
    "\n",
    "asap_list = ['Immediately', 'As soon as possible', 'Upon hiring',\n",
    "             'Immediate', 'Immediate employment', 'As soon as possible.', 'Immediate job opportunity',\n",
    "             '\"Immediate employment, after passing the interview.\"',\n",
    "             'ASAP preferred', 'Employment contract signature date',\n",
    "             'Immediate employment opportunity', 'Immidiately', 'ASA',\n",
    "             'Asap', '\"The position is open immediately but has a flexible start date depending on the candidates earliest availability.\"',\n",
    "             'Immediately upon agreement', '20 November 2014 or ASAP',\n",
    "             'immediately', 'Immediatelly',\n",
    "             '\"Immediately upon selection or no later than November 15, 2009.\"',\n",
    "             'Immediate job opening', 'Immediate hiring', 'Upon selection',\n",
    "             'As soon as practical', 'Immadiate', 'As soon as posible',\n",
    "             'Immediately with 2 months probation period',\n",
    "             '12 November 2012 or ASAP', 'Immediate employment after passing the interview',\n",
    "             'Immediately/ upon agreement', '01 September 2014 or ASAP',\n",
    "             'Immediately or as per agreement', 'as soon as possible',\n",
    "             'As soon as Possible', 'in the nearest future', 'immediate',\n",
    "             '01 April 2014 or ASAP', 'Immidiatly', 'Urgent',\n",
    "             'Immediate or earliest possible', 'Immediate hire',\n",
    "             'Earliest  possible', 'ASAP with 3 months probation period.',\n",
    "             'Immediate employment opportunity.', 'Immediate employment.',\n",
    "             'Immidietly', 'Imminent', 'September 2014 or ASAP', 'Imediately']\n",
    "\n",
    "for phrase in asap_list:\n",
    "    df_clean.StartDate.replace( phrase, 'ASAP', inplace=True)"
   ]
  },
  {
   "cell_type": "markdown",
   "id": "7996fe8f",
   "metadata": {},
   "source": [
    "### Test 👩🏽‍🔬"
   ]
  },
  {
   "cell_type": "code",
   "execution_count": null,
   "id": "ca3ba63c-ce39-4b74-a9b6-58d7d95d80e0",
   "metadata": {},
   "outputs": [],
   "source": [
    "# check our work!\n",
    "df_clean.info()"
   ]
  },
  {
   "cell_type": "code",
   "execution_count": null,
   "id": "ee45cfa2-557c-4ab1-b645-3b9c5bf4b969",
   "metadata": {},
   "outputs": [],
   "source": [
    "# check your work!\n",
    "df_clean.StartDate.value_counts()"
   ]
  },
  {
   "cell_type": "code",
   "execution_count": null,
   "id": "7e4183e0",
   "metadata": {},
   "outputs": [],
   "source": []
  }
 ],
 "metadata": {
  "kernelspec": {
   "display_name": "Python 3 (ipykernel)",
   "language": "python",
   "name": "python3"
  },
  "language_info": {
   "codemirror_mode": {
    "name": "ipython",
    "version": 3
   },
   "file_extension": ".py",
   "mimetype": "text/x-python",
   "name": "python",
   "nbconvert_exporter": "python",
   "pygments_lexer": "ipython3",
   "version": "3.9.12"
  }
 },
 "nbformat": 4,
 "nbformat_minor": 5
}
